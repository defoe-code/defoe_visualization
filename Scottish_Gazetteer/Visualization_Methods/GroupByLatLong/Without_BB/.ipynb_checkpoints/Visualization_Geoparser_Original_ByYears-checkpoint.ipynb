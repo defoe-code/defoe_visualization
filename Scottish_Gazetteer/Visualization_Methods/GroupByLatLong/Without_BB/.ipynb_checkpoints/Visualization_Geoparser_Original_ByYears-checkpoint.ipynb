{
 "cells": [
  {
   "cell_type": "markdown",
   "metadata": {},
   "source": [
    "## Visualizing Original Geoparser - By Years"
   ]
  },
  {
   "cell_type": "markdown",
   "metadata": {},
   "source": [
    "In this case, we have used the [Edinburgh geoparser](https://programminghistorian.org/en/lessons/geoparsing-text-with-edinburgh#patch-fix)  using the original language model for finding the Name Entities of all the books of a particular edition, and select the ones regarding with places. Later, once we have the locations entities, it uses the georesolver to resolve these locations.\n",
    "                       \n",
    "The query for running that we have used is the following: \n",
    "\n",
    "`sspark-submit --py-files defoe.zip defoe/run_queries.py nls_gaz.txt  nls -l query_distributed_topics.txt -n 16 `\n",
    "\n",
    "\n",
    "And the queries/lang_model.yml specifies the spaCy language model to use:\n",
    "`lang_model: original`\n"
   ]
  },
  {
   "cell_type": "markdown",
   "metadata": {},
   "source": [
    "### Loading the necessary libraries"
   ]
  },
  {
   "cell_type": "code",
   "execution_count": 1,
   "metadata": {},
   "outputs": [],
   "source": [
    "import yaml\n",
    "from IPython.core.display import display, HTML\n",
    "import pandas as pd \n",
    "import matplotlib.pyplot as plt\n",
    "import matplotlib as mpl\n",
    "import numpy as np"
   ]
  },
  {
   "cell_type": "markdown",
   "metadata": {},
   "source": [
    "### Functions"
   ]
  },
  {
   "cell_type": "code",
   "execution_count": 2,
   "metadata": {},
   "outputs": [],
   "source": [
    "def read_query_results(filename):\n",
    "    with open('../../../results_Gazetteer/results_without_bb/'+filename, 'r') as f:\n",
    "        query_results = yaml.load(f)\n",
    "    return query_results\n"
   ]
  },
  {
   "cell_type": "code",
   "execution_count": 3,
   "metadata": {},
   "outputs": [],
   "source": [
    "def geresolution_dataframe(result):\n",
    "    dfs=[]\n",
    "    data=[]\n",
    "    c_locs=[]    \n",
    "    for i in result.keys():\n",
    "        print(\"year %s\" %i)\n",
    "        t_ind = 0\n",
    "        e_ind = 0\n",
    "        year = i\n",
    "        for k in result[i]:\n",
    "            locs= k[\"georesolution_page\"]\n",
    "            page = k[\"text_unit id\"]\n",
    "            if locs != {}:\n",
    "                data=[]\n",
    "                l_ind = 0\n",
    "                for t in locs:\n",
    "                    if type(locs[t]) == type([]) :\n",
    "                        c_locs=locs[t].copy()\n",
    "                        c_locs.append(t.split(\"-\")[0])\n",
    "                        c_locs.append(page)\n",
    "                        c_locs.append(year)\n",
    "                        data.append(c_locs)\n",
    "                        l_ind = l_ind + 1   \n",
    "                e_ind = t_ind + l_ind \n",
    "                if data:\n",
    "                    df_page = pd.DataFrame(data, columns = ['Latitude', 'Longitude', 'Place', 'Page', 'Year'], \n",
    "                                      index=list(range(t_ind, e_ind)))\n",
    "                    dfs.append(df_page)\n",
    "                    t_ind=e_ind\n",
    "    df_total = pd.concat(dfs)\n",
    "    return df_total"
   ]
  },
  {
   "cell_type": "code",
   "execution_count": 4,
   "metadata": {},
   "outputs": [],
   "source": [
    "def get_place(df, lat, long):\n",
    "    df_new=df.loc[(df['Latitude'] == lat) & (df['Longitude'] == long)]['Place']\n",
    "    return df_new.count(), df_new.iloc[0]"
   ]
  },
  {
   "cell_type": "code",
   "execution_count": null,
   "metadata": {},
   "outputs": [],
   "source": [
    "def label_freq_places(df_total, df_max_geolocations, filter_list):\n",
    "    place_label=[]\n",
    "    place_freq = []\n",
    "    i_limit = 15\n",
    "    i =0\n",
    "    k =0 \n",
    "    while k < i_limit:\n",
    "        place_count, place_name = get_place(df_total, df_max_geolocations.iloc[i]['Latitude'], df_max_geolocations.iloc[i]['Longitude'])\n",
    "        if place_name not in filter_list:\n",
    "            #print(i, place_count,place_name)\n",
    "            if place_name not in place_label:\n",
    "                k = k + 1\n",
    "            place_label.append(place_name)\n",
    "            place_freq.append(place_count)\n",
    "         \n",
    "        i = i + 1\n",
    "    return place_label, place_freq"
   ]
  },
  {
   "cell_type": "code",
   "execution_count": null,
   "metadata": {},
   "outputs": [],
   "source": [
    "def plot_bar_places_by_years(df_group_places_years,plot_type=\"resolved\"):\n",
    "    num_subplots=len(df_group_places_years.keys())\n",
    "    fig, axs = plt.subplots(num_subplots,1, squeeze=False)\n",
    "    plt.subplots_adjust(hspace = 0.8, top=0.95)\n",
    "    fig.set_size_inches(20, 35)\n",
    "    i=0\n",
    "    if plot_type == \"resolved\":\n",
    "        fig.suptitle('15 Places most mentioned using the Original Geoparser ', fontsize = 20)\n",
    "    else:\n",
    "        fig.suptitle('15 Places most mentioned but not resolved using the Original Geoparser', fontsize = 20)\n",
    "    for y in sorted(df_group_places_years.keys()):\n",
    "        df_group_places = df_group_places_years[y]\n",
    "        index = np.arange(len(df_group_places['Place']))\n",
    "\n",
    "        if plot_type == \"resolved\":\n",
    "            axs[i,0].bar(index, df_group_places['count'], color='orange')\n",
    "            axs[i,0].set_title('Year %s' %y, fontsize=18)\n",
    "        else: \n",
    "            axs[i,0].bar(index, df_group_places['count'], color='coral')\n",
    "            axs[i,0].set_title('Year %s' %y, fontsize=18)\n",
    "        axs[i,0].set_xticks(index) \n",
    "        axs[i,0].set_xticklabels(list(df_group_places['Place']), rotation=15, fontsize=18)   \n",
    "        axs[i,0].set_ylabel('Frequency of Places') \n",
    "        i=i +1 "
   ]
  },
  {
   "cell_type": "code",
   "execution_count": null,
   "metadata": {},
   "outputs": [],
   "source": [
    "# Plot lines of different places\n",
    "def cumulative_plot(df, list_places, list_years):\n",
    "    fig = plt.figure(figsize=(12, 6))\n",
    "    line_weight = 3\n",
    "    alpha = .5\n",
    "    tt=df_group_places_years_final.reset_index()\n",
    "    years=set()\n",
    "    for pl in list_places:\n",
    "        freq_term={}\n",
    "        for i in sorted(years_list):\n",
    "            try:\n",
    "                freq_term[i]= list(tt.loc[(tt['Place']==pl) & (tt['level_0']==i) ][\"count\"])[0]\n",
    "            except:\n",
    "                freq_term[i] = 0\n",
    "        plt.plot(*zip(*sorted(freq_term.items())), lw=line_weight, alpha=alpha, label=pl, marker='d') \n",
    "    \n",
    "    for i in sorted(years_list):\n",
    "        years.add(i)\n",
    "    plt.xticks(sorted(list(years)), rotation=50)  \n",
    "    plt.title('Yearly cumulative plot of selected places' )\n",
    "    plt.legend(loc='upper left')\n",
    "    plt.ylabel('Frequency of Places')\n",
    "    plt.xlabel(\"Years\")\n",
    "    plt.show()\n",
    "       "
   ]
  },
  {
   "cell_type": "markdown",
   "metadata": {},
   "source": [
    "### Information about the defoe geoparser query\n",
    "\n",
    "This query does the following tasks:\n",
    "\n",
    "- Ingests all the pages from each directory listed in nls_gaz.txt, which each corresponds to a book of the \"Scottish Gazzeter\"\n",
    "- Cleans the text applied two fixes: Long-s and hyphen words\n",
    "- Identifies *entities*.\n",
    "- From the previous entities, just selects the one about *location* and creates an xml (in memory) per page with these \"location\" entities. \n",
    "- Applies the georesolve of the Edinburgh geoparser to each xml and gets lat and long. **Important: Everything is in memory, we do not create XML files in those steps**\n",
    "- Group the results by year, and also gets some informative metadata\n",
    "\n",
    "\n",
    "As a result we get a file per book with an entry per page with the following information:\n",
    "\n",
    "    * edition: Edition of the gazetteer\n",
    "    * georesolution_page: Page's geolocations after applying the georesolver\n",
    "    * page_filename: Page's filename (page's relative path)\n",
    "    * text_unit id: The number of this page (e.g. Page 1)\n",
    "    * lang_model : The language model applied (original_geoparser)\n",
    "    * type_distribution: type of document (newspaper|book). In this case is \"book\". \n",
    "    * year: Publication year \n",
    "\n",
    "`Example:\n",
    "     \n",
    "    - edition: '1828'\n",
    "      georesolution_page:\n",
    "       Aberdeen-rb19:\n",
    "        - '57.1333333'\n",
    "        - '-2.1'\n",
    "       Edinburgh-rb7:\n",
    "        - '55.9497284685701'\n",
    "        - '-3.19333076477051'\n",
    "    \n",
    "      lang_model: geoparser_original\n",
    "      page_filename: alto/97351031.34.xml\n",
    "      text_unit id: Page27\n",
    "      title: Descriptive account of the principal towns in Scotland to accompany Wood's town atlas`\n"
   ]
  },
  {
   "cell_type": "markdown",
   "metadata": {},
   "source": [
    "### Reading the file and creating the first dataframe"
   ]
  },
  {
   "cell_type": "code",
   "execution_count": null,
   "metadata": {},
   "outputs": [],
   "source": [
    "results=read_query_results('geoparser_original_total')"
   ]
  },
  {
   "cell_type": "code",
   "execution_count": null,
   "metadata": {},
   "outputs": [],
   "source": [
    "df_total= geresolution_dataframe(results)"
   ]
  },
  {
   "cell_type": "code",
   "execution_count": null,
   "metadata": {},
   "outputs": [],
   "source": [
    "df_total.head(15)"
   ]
  },
  {
   "cell_type": "markdown",
   "metadata": {},
   "source": [
    "### Generic Explorations "
   ]
  },
  {
   "cell_type": "markdown",
   "metadata": {},
   "source": [
    "**Important: Number of Places that has been identified!**"
   ]
  },
  {
   "cell_type": "code",
   "execution_count": null,
   "metadata": {},
   "outputs": [],
   "source": [
    "df_total[[\"Place\"]].count()"
   ]
  },
  {
   "cell_type": "markdown",
   "metadata": {},
   "source": [
    "**Important: Going to remove City of | Contry of | County of  in the strings of Places**"
   ]
  },
  {
   "cell_type": "code",
   "execution_count": null,
   "metadata": {},
   "outputs": [],
   "source": [
    "df_total['Place'] = df_total['Place'].str.replace(r'City of ', '')\n",
    "df_total['Place'] = df_total['Place'].str.replace(r'city of ', '')"
   ]
  },
  {
   "cell_type": "code",
   "execution_count": null,
   "metadata": {},
   "outputs": [],
   "source": [
    "df_total['Place'] = df_total['Place'].str.replace(r'Country of ', '')\n",
    "df_total['Place'] = df_total['Place'].str.replace(r'country of ', '')"
   ]
  },
  {
   "cell_type": "code",
   "execution_count": null,
   "metadata": {},
   "outputs": [],
   "source": [
    "df_total['Place'] = df_total['Place'].str.replace(r'County of ', '')\n",
    "df_total['Place'] = df_total['Place'].str.replace(r'county of ', '')"
   ]
  },
  {
   "cell_type": "code",
   "execution_count": null,
   "metadata": {},
   "outputs": [],
   "source": [
    "df_total['Place'] = df_total['Place'].str.replace(r'the ', '')\n",
    "df_total['Place'] = df_total['Place'].str.replace(r'The ', '')"
   ]
  },
  {
   "cell_type": "markdown",
   "metadata": {},
   "source": [
    "**Important: Number of Places that has been identified but not resolved!**"
   ]
  },
  {
   "cell_type": "code",
   "execution_count": null,
   "metadata": {},
   "outputs": [],
   "source": [
    "df_total.loc[df_total['Latitude'] == ''].count()"
   ]
  },
  {
   "cell_type": "markdown",
   "metadata": {},
   "source": [
    "**Important: Counting the total number of places identified - included the not resolved ones**"
   ]
  },
  {
   "cell_type": "code",
   "execution_count": null,
   "metadata": {},
   "outputs": [],
   "source": [
    "df_total.groupby(\"Year\").count()"
   ]
  },
  {
   "cell_type": "markdown",
   "metadata": {},
   "source": [
    "**Important: Number of Places that has been identified AND  resolved!**"
   ]
  },
  {
   "cell_type": "code",
   "execution_count": null,
   "metadata": {},
   "outputs": [],
   "source": [
    "df_total.loc[df_total['Latitude'] != ''].count()"
   ]
  },
  {
   "cell_type": "markdown",
   "metadata": {},
   "source": [
    "### Explorations with georesolved places"
   ]
  },
  {
   "cell_type": "markdown",
   "metadata": {},
   "source": [
    "**Important: New dataframe- df_resolved- without the rows has been resolved!!**"
   ]
  },
  {
   "cell_type": "code",
   "execution_count": null,
   "metadata": {},
   "outputs": [],
   "source": [
    "df_resolved = df_total[df_total['Latitude'] != '']"
   ]
  },
  {
   "cell_type": "code",
   "execution_count": null,
   "metadata": {},
   "outputs": [],
   "source": [
    "df_resolved.count()"
   ]
  },
  {
   "cell_type": "markdown",
   "metadata": {},
   "source": [
    "**Places names - forcing all to lower case, and later capitalize them**"
   ]
  },
  {
   "cell_type": "code",
   "execution_count": null,
   "metadata": {},
   "outputs": [],
   "source": [
    "df2 = df_resolved.copy()\n",
    "df2['Place']=df_resolved['Place'].apply(str.lower)"
   ]
  },
  {
   "cell_type": "code",
   "execution_count": null,
   "metadata": {},
   "outputs": [],
   "source": [
    "df_capitalized= df2.copy()\n",
    "df_capitalized['Place']=df2['Place'].apply(str.capitalize)\n",
    "#Displaying the first 15 rows\n",
    "df_capitalized.head(15)"
   ]
  },
  {
   "cell_type": "markdown",
   "metadata": {},
   "source": [
    "**Important: Calculating the number of georesolved places by year** - To Be included in the paper\n",
    "\n",
    "We have another table like this at the end of the notebook, for the places that has not been geolocated/resolved."
   ]
  },
  {
   "cell_type": "code",
   "execution_count": null,
   "metadata": {},
   "outputs": [],
   "source": [
    "df_capitalized.groupby(\"Year\").count()"
   ]
  },
  {
   "cell_type": "markdown",
   "metadata": {},
   "source": [
    "### Visualizing the 15 places more mentioned (and resolved) per year"
   ]
  },
  {
   "cell_type": "code",
   "execution_count": null,
   "metadata": {},
   "outputs": [],
   "source": [
    "mpl.rcParams['figure.dpi']=300\n",
    "years_list = df_capitalized['Year'].unique()\n",
    "filter_list=[]\n",
    "df_group_places_years={}\n",
    "for y in years_list:\n",
    "    df_filter_year=df_capitalized.loc[df_capitalized['Year'] == y]\n",
    "    df_max_geolocations = df_filter_year[['Latitude','Longitude','Year']].groupby(['Latitude', 'Longitude','Year'])['Longitude'] \\\n",
    "                             .count() \\\n",
    "                             .reset_index(name='count') \\\n",
    "                             .sort_values(['count'], ascending=False)   \n",
    "    place_label, place_freq = label_freq_places(df_filter_year, df_max_geolocations, filter_list)\n",
    "    df_places = {'Place':place_label,'Place_freq':place_freq}\n",
    "    df_places_freq = pd.DataFrame(df_places)\n",
    "    df_group_places = df_places_freq.groupby(['Place'])['Place_freq'].sum()\\\n",
    "                             .reset_index(name='count') \\\n",
    "                             .sort_values(['count'], ascending=False)   \n",
    "    df_group_places_years[y]=df_group_places"
   ]
  },
  {
   "cell_type": "code",
   "execution_count": null,
   "metadata": {},
   "outputs": [],
   "source": [
    "plot_bar_places_by_years(df_group_places_years,plot_type=\"resolved\")"
   ]
  },
  {
   "cell_type": "code",
   "execution_count": null,
   "metadata": {},
   "outputs": [],
   "source": [
    "#As an example, we can get the number of places by years - e.g. 1828.\n",
    "df_group_places_years[\"1828\"]"
   ]
  },
  {
   "cell_type": "markdown",
   "metadata": {},
   "source": [
    "### Cumulative Yearly Plot \n",
    "\n",
    "First we have to create a new concatenated dataframe with all the information per year - Years as the index.\n",
    "This new dataframe has **sub-dataframe per year with the 15 places more geolocated**. "
   ]
  },
  {
   "cell_type": "code",
   "execution_count": null,
   "metadata": {},
   "outputs": [],
   "source": [
    "df_group_places_years_final = pd.concat(df_group_places_years)"
   ]
  },
  {
   "cell_type": "code",
   "execution_count": null,
   "metadata": {},
   "outputs": [],
   "source": [
    "#Displaying the first 10 rows\n",
    "df_group_places_years_final.head(10)"
   ]
  },
  {
   "cell_type": "markdown",
   "metadata": {},
   "source": [
    "**Exploring Edinburgh over the years**"
   ]
  },
  {
   "cell_type": "code",
   "execution_count": null,
   "metadata": {},
   "outputs": [],
   "source": [
    "df_group_places_years_final.loc[df_group_places_years_final['Place']=='Edinburgh']"
   ]
  },
  {
   "cell_type": "markdown",
   "metadata": {},
   "source": [
    "List of the places' name that we have in this dataframe, so we can select later, which places to explore."
   ]
  },
  {
   "cell_type": "code",
   "execution_count": null,
   "metadata": {},
   "outputs": [],
   "source": [
    "df_group_places_years_final.Place.unique()"
   ]
  },
  {
   "cell_type": "markdown",
   "metadata": {},
   "source": [
    "And finally, the cumulative plot "
   ]
  },
  {
   "cell_type": "code",
   "execution_count": null,
   "metadata": {},
   "outputs": [],
   "source": [
    "mpl.rcParams['figure.dpi']=150\n",
    "list_places=[\"Edinburgh\", \"Scotland\", \"Glasgow\", \"Aberdeenshire\", \"Perthshire\"]\n",
    "cumulative_plot(df_group_places_years_final, list_places, sorted(years_list))"
   ]
  },
  {
   "cell_type": "markdown",
   "metadata": {},
   "source": [
    "### Exploration - Not georesolved places"
   ]
  },
  {
   "cell_type": "markdown",
   "metadata": {},
   "source": [
    "**Important: Calculating the number of not georesolved places by year**"
   ]
  },
  {
   "cell_type": "code",
   "execution_count": null,
   "metadata": {},
   "outputs": [],
   "source": [
    "df_not_resolved=df_total.loc[df_total['Latitude'] == '']"
   ]
  },
  {
   "cell_type": "code",
   "execution_count": null,
   "metadata": {},
   "outputs": [],
   "source": [
    "df_not_resolved.groupby(\"Year\").count()"
   ]
  },
  {
   "cell_type": "code",
   "execution_count": null,
   "metadata": {},
   "outputs": [],
   "source": []
  }
 ],
 "metadata": {
  "kernelspec": {
   "display_name": "Python 3",
   "language": "python",
   "name": "python3"
  },
  "language_info": {
   "codemirror_mode": {
    "name": "ipython",
    "version": 3
   },
   "file_extension": ".py",
   "mimetype": "text/x-python",
   "name": "python",
   "nbconvert_exporter": "python",
   "pygments_lexer": "ipython3",
   "version": "3.5.5"
  }
 },
 "nbformat": 4,
 "nbformat_minor": 2
}
